{
 "cells": [
  {
   "cell_type": "code",
   "execution_count": null,
   "id": "35658bc4-f236-4de6-a428-af8f5b6555fe",
   "metadata": {},
   "outputs": [],
   "source": [
    "list = [10, 50, 75, 83, 98, 84, 32,30,40,21,11,12,13,14,15,16,17,18,19,20,22,23,24,25,26] \n",
    " \n",
    " \n",
    "for x in list : \n",
    "  if(x % 3== 0):\n",
    "    print(\"divisible by 3\") \n",
    "  else :\n",
    "    print(\"not divisile by 3\")"
   ]
  },
  {
   "cell_type": "markdown",
   "id": "8be9f7f1-4edc-4b92-aaee-99e27eb56af1",
   "metadata": {},
   "source": []
  }
 ],
 "metadata": {
  "kernelspec": {
   "display_name": "Python 3 (ipykernel)",
   "language": "python",
   "name": "python3"
  },
  "language_info": {
   "codemirror_mode": {
    "name": "ipython",
    "version": 3
   },
   "file_extension": ".py",
   "mimetype": "text/x-python",
   "name": "python",
   "nbconvert_exporter": "python",
   "pygments_lexer": "ipython3",
   "version": "3.10.8"
  }
 },
 "nbformat": 4,
 "nbformat_minor": 5
}
