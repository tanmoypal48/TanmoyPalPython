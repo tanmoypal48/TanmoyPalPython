{
 "cells": [
  {
   "cell_type": "markdown",
   "id": "56e819af-6e55-4e25-86ae-11ae28b584b7",
   "metadata": {},
   "source": [
    "list = [10, 50, 75, 83, 98, 84, 32,30,40,21,11,12,13,14,15,16,17,18,19,20,22,23,24,25,26] \n",
    " \n",
    " \n",
    "for x in list : \n",
    "  if(x % 3== 0):\n",
    "    print(\"divisible by 3\") \n",
    "  else :\n",
    "    print(\"not divisile by 3\")"
   ]
  },
  {
   "cell_type": "markdown",
   "id": "8be9f7f1-4edc-4b92-aaee-99e27eb56af1",
   "metadata": {},
   "source": []
  }
 ],
 "metadata": {
  "kernelspec": {
   "display_name": "Python 3 (ipykernel)",
   "language": "python",
   "name": "python3"
  },
  "language_info": {
   "codemirror_mode": {
    "name": "ipython",
    "version": 3
   },
   "file_extension": ".py",
   "mimetype": "text/x-python",
   "name": "python",
   "nbconvert_exporter": "python",
   "pygments_lexer": "ipython3",
   "version": "3.10.8"
  }
 },
 "nbformat": 4,
 "nbformat_minor": 5
}
